{
 "cells": [
  {
   "cell_type": "code",
   "execution_count": 1,
   "metadata": {},
   "outputs": [
    {
     "data": {
      "text/html": [
       "<pre style=\"white-space:pre;overflow-x:auto;line-height:normal;font-family:Menlo,'DejaVu Sans Mono',consolas,'Courier New',monospace\">Accessing as avi350751\n",
       "</pre>\n"
      ],
      "text/plain": [
       "Accessing as avi350751\n"
      ]
     },
     "metadata": {},
     "output_type": "display_data"
    },
    {
     "data": {
      "text/html": [
       "<pre style=\"white-space:pre;overflow-x:auto;line-height:normal;font-family:Menlo,'DejaVu Sans Mono',consolas,'Courier New',monospace\">Initialized MLflow to track repo <span style=\"color: #008000; text-decoration-color: #008000\">\"avi350751/mlops-new-mini-project\"</span>\n",
       "</pre>\n"
      ],
      "text/plain": [
       "Initialized MLflow to track repo \u001b[32m\"avi350751/mlops-new-mini-project\"\u001b[0m\n"
      ]
     },
     "metadata": {},
     "output_type": "display_data"
    },
    {
     "data": {
      "text/html": [
       "<pre style=\"white-space:pre;overflow-x:auto;line-height:normal;font-family:Menlo,'DejaVu Sans Mono',consolas,'Courier New',monospace\">Repository avi350751/mlops-new-mini-project initialized!\n",
       "</pre>\n"
      ],
      "text/plain": [
       "Repository avi350751/mlops-new-mini-project initialized!\n"
      ]
     },
     "metadata": {},
     "output_type": "display_data"
    },
    {
     "name": "stderr",
     "output_type": "stream",
     "text": [
      "/var/folders/1p/1srh72nx48n3v99r1_jr_1pm0000gn/T/ipykernel_39108/281815890.py:85: FutureWarning: Downcasting behavior in `replace` is deprecated and will be removed in a future version. To retain the old behavior, explicitly call `result.infer_objects(copy=False)`. To opt-in to the future behavior, set `pd.set_option('future.no_silent_downcasting', True)`\n",
      "  df['sentiment'] = df['sentiment'].replace({'sadness':0, 'happiness':1})\n",
      "2024/08/11 23:29:13 INFO mlflow.tracking.fluent: Experiment with name 'LoR Hyperparameter Tuning' does not exist. Creating a new experiment.\n",
      "2024/08/11 23:29:17 INFO mlflow.tracking._tracking_service.client: 🏃 View run LR with params: {'C': 0.1, 'penalty': 'l1', 'solver': 'liblinear'} at: https://dagshub.com/avi350751/mlops-new-mini-project.mlflow/#/experiments/2/runs/a96658bd81ce45b0b6e872a134cdf0a0.\n",
      "2024/08/11 23:29:17 INFO mlflow.tracking._tracking_service.client: 🧪 View experiment at: https://dagshub.com/avi350751/mlops-new-mini-project.mlflow/#/experiments/2.\n"
     ]
    },
    {
     "name": "stdout",
     "output_type": "stream",
     "text": [
      "Mean CV Score: 0.7051163373017877, Std CV Score: 0.014297013862890536\n",
      "Accuracy: 0.739277108433735\n",
      "Precision: 0.7749419953596288\n",
      "Recall: 0.6581280788177339\n",
      "F1 Score: 0.7117741076185402\n"
     ]
    },
    {
     "name": "stderr",
     "output_type": "stream",
     "text": [
      "2024/08/11 23:29:18 INFO mlflow.tracking._tracking_service.client: 🏃 View run LR with params: {'C': 0.1, 'penalty': 'l2', 'solver': 'liblinear'} at: https://dagshub.com/avi350751/mlops-new-mini-project.mlflow/#/experiments/2/runs/1fb8d75637b843a2a0e18ef35a94d515.\n",
      "2024/08/11 23:29:18 INFO mlflow.tracking._tracking_service.client: 🧪 View experiment at: https://dagshub.com/avi350751/mlops-new-mini-project.mlflow/#/experiments/2.\n"
     ]
    },
    {
     "name": "stdout",
     "output_type": "stream",
     "text": [
      "Mean CV Score: 0.7811972314475085, Std CV Score: 0.011496238130202462\n",
      "Accuracy: 0.7893975903614457\n",
      "Precision: 0.7816764132553606\n",
      "Recall: 0.7901477832512315\n",
      "F1 Score: 0.7858892699657031\n"
     ]
    },
    {
     "name": "stderr",
     "output_type": "stream",
     "text": [
      "2024/08/11 23:29:20 INFO mlflow.tracking._tracking_service.client: 🏃 View run LR with params: {'C': 1, 'penalty': 'l1', 'solver': 'liblinear'} at: https://dagshub.com/avi350751/mlops-new-mini-project.mlflow/#/experiments/2/runs/4ab0d47ec4e44349809b51c308cecce2.\n",
      "2024/08/11 23:29:20 INFO mlflow.tracking._tracking_service.client: 🧪 View experiment at: https://dagshub.com/avi350751/mlops-new-mini-project.mlflow/#/experiments/2.\n"
     ]
    },
    {
     "name": "stdout",
     "output_type": "stream",
     "text": [
      "Mean CV Score: 0.7841366115344025, Std CV Score: 0.009352536472428716\n",
      "Accuracy: 0.7821686746987951\n",
      "Precision: 0.7735665694849369\n",
      "Recall: 0.7842364532019704\n",
      "F1 Score: 0.7788649706457925\n"
     ]
    },
    {
     "name": "stderr",
     "output_type": "stream",
     "text": [
      "2024/08/11 23:29:22 INFO mlflow.tracking._tracking_service.client: 🏃 View run LR with params: {'C': 1, 'penalty': 'l2', 'solver': 'liblinear'} at: https://dagshub.com/avi350751/mlops-new-mini-project.mlflow/#/experiments/2/runs/3d8d30f2df584aa7aff89eb11e4f4c9d.\n",
      "2024/08/11 23:29:22 INFO mlflow.tracking._tracking_service.client: 🧪 View experiment at: https://dagshub.com/avi350751/mlops-new-mini-project.mlflow/#/experiments/2.\n"
     ]
    },
    {
     "name": "stdout",
     "output_type": "stream",
     "text": [
      "Mean CV Score: 0.7901458706737883, Std CV Score: 0.009616617990376476\n",
      "Accuracy: 0.7942168674698795\n",
      "Precision: 0.7854368932038835\n",
      "Recall: 0.7970443349753694\n",
      "F1 Score: 0.79119804400978\n"
     ]
    },
    {
     "name": "stderr",
     "output_type": "stream",
     "text": [
      "2024/08/11 23:29:23 INFO mlflow.tracking._tracking_service.client: 🏃 View run LR with params: {'C': 10, 'penalty': 'l1', 'solver': 'liblinear'} at: https://dagshub.com/avi350751/mlops-new-mini-project.mlflow/#/experiments/2/runs/b84ec51fddc347b59527ccbaf3adfa3b.\n",
      "2024/08/11 23:29:23 INFO mlflow.tracking._tracking_service.client: 🧪 View experiment at: https://dagshub.com/avi350751/mlops-new-mini-project.mlflow/#/experiments/2.\n"
     ]
    },
    {
     "name": "stdout",
     "output_type": "stream",
     "text": [
      "Mean CV Score: 0.7712238577695444, Std CV Score: 0.011375181888880538\n",
      "Accuracy: 0.7812048192771084\n",
      "Precision: 0.7774480712166172\n",
      "Recall: 0.774384236453202\n",
      "F1 Score: 0.7759131293188549\n"
     ]
    },
    {
     "name": "stderr",
     "output_type": "stream",
     "text": [
      "2024/08/11 23:29:25 INFO mlflow.tracking._tracking_service.client: 🏃 View run LR with params: {'C': 10, 'penalty': 'l2', 'solver': 'liblinear'} at: https://dagshub.com/avi350751/mlops-new-mini-project.mlflow/#/experiments/2/runs/e21fd3b0fb3e424e90a83bef00e9fbc2.\n",
      "2024/08/11 23:29:25 INFO mlflow.tracking._tracking_service.client: 🧪 View experiment at: https://dagshub.com/avi350751/mlops-new-mini-project.mlflow/#/experiments/2.\n"
     ]
    },
    {
     "name": "stdout",
     "output_type": "stream",
     "text": [
      "Mean CV Score: 0.781002998936019, Std CV Score: 0.005279351561572635\n",
      "Accuracy: 0.7836144578313253\n",
      "Precision: 0.7715930902111324\n",
      "Recall: 0.7921182266009852\n",
      "F1 Score: 0.7817209528439475\n",
      "Best Params: {'C': 1, 'penalty': 'l2', 'solver': 'liblinear'}\n",
      "Best F1 Score: 0.7901458706737883\n"
     ]
    },
    {
     "name": "stderr",
     "output_type": "stream",
     "text": [
      "[NbConvertApp] Converting notebook exp3_lor_hp.ipynb to notebook\n",
      "Traceback (most recent call last):\n",
      "  File \"/Users/avi/Desktop/CampusX/MLOPS/mlops-new-mini-project/myenv/lib/python3.12/site-packages/nbformat/reader.py\", line 19, in parse_json\n",
      "    nb_dict = json.loads(s, **kwargs)\n",
      "              ^^^^^^^^^^^^^^^^^^^^^^^\n",
      "  File \"/opt/homebrew/Cellar/python@3.12/3.12.4/Frameworks/Python.framework/Versions/3.12/lib/python3.12/json/__init__.py\", line 346, in loads\n",
      "    return _default_decoder.decode(s)\n",
      "           ^^^^^^^^^^^^^^^^^^^^^^^^^^\n",
      "  File \"/opt/homebrew/Cellar/python@3.12/3.12.4/Frameworks/Python.framework/Versions/3.12/lib/python3.12/json/decoder.py\", line 337, in decode\n",
      "    obj, end = self.raw_decode(s, idx=_w(s, 0).end())\n",
      "               ^^^^^^^^^^^^^^^^^^^^^^^^^^^^^^^^^^^^^^\n",
      "  File \"/opt/homebrew/Cellar/python@3.12/3.12.4/Frameworks/Python.framework/Versions/3.12/lib/python3.12/json/decoder.py\", line 355, in raw_decode\n",
      "    raise JSONDecodeError(\"Expecting value\", s, err.value) from None\n",
      "json.decoder.JSONDecodeError: Expecting value: line 1 column 1 (char 0)\n",
      "\n",
      "The above exception was the direct cause of the following exception:\n",
      "\n",
      "Traceback (most recent call last):\n",
      "  File \"/Users/avi/Desktop/CampusX/MLOPS/mlops-new-mini-project/myenv/bin/jupyter-nbconvert\", line 8, in <module>\n",
      "    sys.exit(main())\n",
      "             ^^^^^^\n",
      "  File \"/Users/avi/Desktop/CampusX/MLOPS/mlops-new-mini-project/myenv/lib/python3.12/site-packages/jupyter_core/application.py\", line 283, in launch_instance\n",
      "    super().launch_instance(argv=argv, **kwargs)\n",
      "  File \"/Users/avi/Desktop/CampusX/MLOPS/mlops-new-mini-project/myenv/lib/python3.12/site-packages/traitlets/config/application.py\", line 1075, in launch_instance\n",
      "    app.start()\n",
      "  File \"/Users/avi/Desktop/CampusX/MLOPS/mlops-new-mini-project/myenv/lib/python3.12/site-packages/nbconvert/nbconvertapp.py\", line 420, in start\n",
      "    self.convert_notebooks()\n",
      "  File \"/Users/avi/Desktop/CampusX/MLOPS/mlops-new-mini-project/myenv/lib/python3.12/site-packages/nbconvert/nbconvertapp.py\", line 597, in convert_notebooks\n",
      "    self.convert_single_notebook(notebook_filename)\n",
      "  File \"/Users/avi/Desktop/CampusX/MLOPS/mlops-new-mini-project/myenv/lib/python3.12/site-packages/nbconvert/nbconvertapp.py\", line 563, in convert_single_notebook\n",
      "    output, resources = self.export_single_notebook(\n",
      "                        ^^^^^^^^^^^^^^^^^^^^^^^^^^^^\n",
      "  File \"/Users/avi/Desktop/CampusX/MLOPS/mlops-new-mini-project/myenv/lib/python3.12/site-packages/nbconvert/nbconvertapp.py\", line 487, in export_single_notebook\n",
      "    output, resources = self.exporter.from_filename(\n",
      "                        ^^^^^^^^^^^^^^^^^^^^^^^^^^^^\n",
      "  File \"/Users/avi/Desktop/CampusX/MLOPS/mlops-new-mini-project/myenv/lib/python3.12/site-packages/nbconvert/exporters/exporter.py\", line 201, in from_filename\n",
      "    return self.from_file(f, resources=resources, **kw)\n",
      "           ^^^^^^^^^^^^^^^^^^^^^^^^^^^^^^^^^^^^^^^^^^^^\n",
      "  File \"/Users/avi/Desktop/CampusX/MLOPS/mlops-new-mini-project/myenv/lib/python3.12/site-packages/nbconvert/exporters/exporter.py\", line 221, in from_file\n",
      "    nbformat.read(file_stream, as_version=4), resources=resources, **kw\n",
      "    ^^^^^^^^^^^^^^^^^^^^^^^^^^^^^^^^^^^^^^^^\n",
      "  File \"/Users/avi/Desktop/CampusX/MLOPS/mlops-new-mini-project/myenv/lib/python3.12/site-packages/nbformat/__init__.py\", line 174, in read\n",
      "    return reads(buf, as_version, capture_validation_error, **kwargs)\n",
      "           ^^^^^^^^^^^^^^^^^^^^^^^^^^^^^^^^^^^^^^^^^^^^^^^^^^^^^^^^^^\n",
      "  File \"/Users/avi/Desktop/CampusX/MLOPS/mlops-new-mini-project/myenv/lib/python3.12/site-packages/nbformat/__init__.py\", line 92, in reads\n",
      "    nb = reader.reads(s, **kwargs)\n",
      "         ^^^^^^^^^^^^^^^^^^^^^^^^^\n",
      "  File \"/Users/avi/Desktop/CampusX/MLOPS/mlops-new-mini-project/myenv/lib/python3.12/site-packages/nbformat/reader.py\", line 75, in reads\n",
      "    nb_dict = parse_json(s, **kwargs)\n",
      "              ^^^^^^^^^^^^^^^^^^^^^^^\n",
      "  File \"/Users/avi/Desktop/CampusX/MLOPS/mlops-new-mini-project/myenv/lib/python3.12/site-packages/nbformat/reader.py\", line 25, in parse_json\n",
      "    raise NotJSONError(message) from e\n",
      "nbformat.reader.NotJSONError: Notebook does not appear to be JSON: ''\n",
      "2024/08/11 23:29:31 WARNING mlflow.models.model: Input example should be provided to infer model signature if the model signature is not provided when logging the model.\n",
      "2024/08/11 23:29:31 INFO mlflow.tracking._tracking_service.client: 🏃 View run treasured-fox-949 at: https://dagshub.com/avi350751/mlops-new-mini-project.mlflow/#/experiments/2/runs/1c4d819d8860471aa46294dc97f4e205.\n",
      "2024/08/11 23:29:31 INFO mlflow.tracking._tracking_service.client: 🧪 View experiment at: https://dagshub.com/avi350751/mlops-new-mini-project.mlflow/#/experiments/2.\n"
     ]
    }
   ],
   "source": [
    "# hyperparameter tuning\n",
    "\n",
    "# Import necessary libraries\n",
    "import mlflow\n",
    "import mlflow.sklearn\n",
    "from sklearn.feature_extraction.text import CountVectorizer, TfidfVectorizer\n",
    "from sklearn.model_selection import train_test_split, GridSearchCV\n",
    "from sklearn.linear_model import LogisticRegression\n",
    "from sklearn.metrics import accuracy_score, precision_score, recall_score, f1_score\n",
    "import pandas as pd\n",
    "import re\n",
    "import string\n",
    "from nltk.corpus import stopwords\n",
    "from nltk.stem import WordNetLemmatizer\n",
    "import numpy as np\n",
    "import os\n",
    "import dagshub\n",
    "import mlflow\n",
    "\n",
    "mlflow.set_tracking_uri('https://dagshub.com/avi350751/mlops-new-mini-project.mlflow')\n",
    "dagshub.init(repo_owner='avi350751', repo_name='mlops-new-mini-project', mlflow=True)\n",
    "\n",
    "\n",
    "# Load the data\n",
    "df = pd.read_csv('https://raw.githubusercontent.com/campusx-official/jupyter-masterclass/main/tweet_emotions.csv').drop(columns=['tweet_id'])\n",
    "\n",
    "\n",
    "# Define text preprocessing functions\n",
    "def lemmatization(text):\n",
    "    \"\"\"Lemmatize the text.\"\"\"\n",
    "    lemmatizer = WordNetLemmatizer()\n",
    "    text = text.split()\n",
    "    text = [lemmatizer.lemmatize(word) for word in text]\n",
    "    return \" \".join(text)\n",
    "\n",
    "def remove_stop_words(text):\n",
    "    \"\"\"Remove stop words from the text.\"\"\"\n",
    "    stop_words = set(stopwords.words(\"english\"))\n",
    "    text = [word for word in str(text).split() if word not in stop_words]\n",
    "    return \" \".join(text)\n",
    "\n",
    "def removing_numbers(text):\n",
    "    \"\"\"Remove numbers from the text.\"\"\"\n",
    "    text = ''.join([char for char in text if not char.isdigit()])\n",
    "    return text\n",
    "\n",
    "def lower_case(text):\n",
    "    \"\"\"Convert text to lower case.\"\"\"\n",
    "    text = text.split()\n",
    "    text = [word.lower() for word in text]\n",
    "    return \" \".join(text)\n",
    "\n",
    "def removing_punctuations(text):\n",
    "    \"\"\"Remove punctuations from the text.\"\"\"\n",
    "    text = re.sub('[%s]' % re.escape(string.punctuation), ' ', text)\n",
    "    text = text.replace('؛', \"\")\n",
    "    text = re.sub(r'\\s+', ' ', text).strip()\n",
    "    return text\n",
    "\n",
    "def removing_urls(text):\n",
    "    \"\"\"Remove URLs from the text.\"\"\"\n",
    "    url_pattern = re.compile(r'https?://\\S+|www\\.\\S+')\n",
    "    return url_pattern.sub(r'', text)\n",
    "\n",
    "def normalize_text(df):\n",
    "    \"\"\"Normalize the text data.\"\"\"\n",
    "    try:\n",
    "        df['content'] = df['content'].apply(lower_case)\n",
    "        df['content'] = df['content'].apply(remove_stop_words)\n",
    "        df['content'] = df['content'].apply(removing_numbers)\n",
    "        df['content'] = df['content'].apply(removing_punctuations)\n",
    "        df['content'] = df['content'].apply(removing_urls)\n",
    "        df['content'] = df['content'].apply(lemmatization)\n",
    "        return df\n",
    "    except Exception as e:\n",
    "        print(f'Error during text normalization: {e}')\n",
    "        raise\n",
    "\n",
    "# Normalize the text data\n",
    "df = normalize_text(df)\n",
    "\n",
    "x = df['sentiment'].isin(['happiness','sadness'])\n",
    "df = df[x]\n",
    "\n",
    "df['sentiment'] = df['sentiment'].replace({'sadness':0, 'happiness':1})\n",
    "\n",
    "vectorizer = CountVectorizer()\n",
    "X = vectorizer.fit_transform(df['content'])\n",
    "y = df['sentiment']\n",
    "X_train, X_test, y_train, y_test = train_test_split(X, y, test_size=0.2, random_state=42)\n",
    "\n",
    "# Set the experiment name\n",
    "mlflow.set_experiment(\"LoR Hyperparameter Tuning\")\n",
    "\n",
    "# Define hyperparameter grid for Logistic Regression\n",
    "param_grid = {\n",
    "    'C': [0.1, 1, 10],\n",
    "    'penalty': ['l1', 'l2'],\n",
    "    'solver': ['liblinear']\n",
    "}\n",
    "\n",
    "# Start the parent run for hyperparameter tuning\n",
    "with mlflow.start_run():\n",
    "\n",
    "    # Perform grid search\n",
    "    grid_search = GridSearchCV(LogisticRegression(), param_grid, cv=5, scoring='f1', n_jobs=-1)\n",
    "    grid_search.fit(X_train, y_train)\n",
    "\n",
    "    # Log each parameter combination as a child run\n",
    "    for params, mean_score, std_score in zip(grid_search.cv_results_['params'], grid_search.cv_results_['mean_test_score'], grid_search.cv_results_['std_test_score']):\n",
    "        with mlflow.start_run(run_name=f\"LR with params: {params}\", nested=True):\n",
    "            model = LogisticRegression(**params)\n",
    "            model.fit(X_train, y_train)\n",
    "            \n",
    "            # Model evaluation\n",
    "            y_pred = model.predict(X_test)\n",
    "            accuracy = accuracy_score(y_test, y_pred)\n",
    "            precision = precision_score(y_test, y_pred)\n",
    "            recall = recall_score(y_test, y_pred)\n",
    "            f1 = f1_score(y_test, y_pred)\n",
    "            \n",
    "            # Log parameters and metrics\n",
    "            mlflow.log_params(params)\n",
    "            mlflow.log_metric(\"mean_cv_score\", mean_score)\n",
    "            mlflow.log_metric(\"std_cv_score\", std_score)\n",
    "            mlflow.log_metric(\"accuracy\", accuracy)\n",
    "            mlflow.log_metric(\"precision\", precision)\n",
    "            mlflow.log_metric(\"recall\", recall)\n",
    "            mlflow.log_metric(\"f1_score\", f1)\n",
    "            \n",
    "            \n",
    "            # Print the results for verification\n",
    "            print(f\"Mean CV Score: {mean_score}, Std CV Score: {std_score}\")\n",
    "            print(f\"Accuracy: {accuracy}\")\n",
    "            print(f\"Precision: {precision}\")\n",
    "            print(f\"Recall: {recall}\")\n",
    "            print(f\"F1 Score: {f1}\")\n",
    "\n",
    "    # Log the best run details in the parent run\n",
    "    best_params = grid_search.best_params_\n",
    "    best_score = grid_search.best_score_\n",
    "    mlflow.log_params(best_params)\n",
    "    mlflow.log_metric(\"best_f1_score\", best_score)\n",
    "    \n",
    "    print(f\"Best Params: {best_params}\")\n",
    "    print(f\"Best F1 Score: {best_score}\")\n",
    "\n",
    "    # Save and log the notebook\n",
    "    import os\n",
    "    notebook_path = \"exp3_lor_hp.ipynb\"\n",
    "    os.system(f\"jupyter nbconvert --to notebook --execute --inplace {notebook_path}\")\n",
    "    mlflow.log_artifact(notebook_path)\n",
    "\n",
    "    # Log model\n",
    "    mlflow.sklearn.log_model(grid_search.best_estimator_, \"model\")"
   ]
  },
  {
   "cell_type": "code",
   "execution_count": null,
   "metadata": {},
   "outputs": [],
   "source": []
  }
 ],
 "metadata": {
  "kernelspec": {
   "display_name": "myenv",
   "language": "python",
   "name": "python3"
  },
  "language_info": {
   "codemirror_mode": {
    "name": "ipython",
    "version": 3
   },
   "file_extension": ".py",
   "mimetype": "text/x-python",
   "name": "python",
   "nbconvert_exporter": "python",
   "pygments_lexer": "ipython3",
   "version": "3.12.4"
  }
 },
 "nbformat": 4,
 "nbformat_minor": 2
}
